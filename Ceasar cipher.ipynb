{
 "cells": [
  {
   "cell_type": "markdown",
   "metadata": {},
   "source": [
    "<H1>Ceasar's cipher</H1>\n",
    "<p>A cipher is a secret code for a language. Contemporary Greek historians have reported that a cipher has been used by Julius Caesar to send secret messages to generals during times of war.\n",
    "\n",
    "The Caesar cipher shifts each letter of a message to another letter in the alphabet located a fixed distance from the original letter. If our encryption key were 1, we would shift a to the next letter b, c to the next letter d, and so on. If we reach the end of the alphabet, which for us is the space character, we simply loop back to a. To decode the message, we make a similar shift, except we move the same number of steps backwards in the alphabet.\n",
    "\n",
    "This code creates a Caesar cipher, as well as a message decoder for this cipher. We will define the alphabet used in the cipher.\n",
    "\n",
    "Instructions\n",
    "The string library has been imported. Create a string called alphabet consisting of the space character ' ' followed by (concatenated with) the lowercase letters. Note that we're only using the lowercase letters in this exercise.</p>\n",
    "\n",
    "<h4> the steps to follow are:\n",
    "    <ul style=\"font-weight: normal\";>call a function having \"message\" and \"key\" as arguments and store all steps inside</ul>\n",
    "    <ul style=\"font-weight: normal\";>create a string called alphabet</ul>\n",
    "    <ul style=\"font-weight: normal\";>define the index of each character in alphabet, called positions</ul>\n",
    "    <ul style=\"font-weight: normal\";>create a list to store the shifted characters in</ul>\n",
    "    <ul style=\"font-weight: normal\";>loop through the message, add the key to each character, and store everything in a list</ul>\n",
    "    <ul style=\"font-weight: normal\";>create a string to join the characters in the list</ul>\n",
    "    <ul style=\"font-weight: normal\";>return the encoded_message</ul>\n",
    "    <ul style=\"font-weight: normal\";>to decode the message, simply use the same function and make the key negative</ul>\n",
    "<h/4>"
   ]
  },
  {
   "cell_type": "code",
   "execution_count": 8,
   "metadata": {},
   "outputs": [
    {
     "name": "stdout",
     "output_type": "stream",
     "text": [
      " abcdefghijklmnopqrstuvwxyz\n"
     ]
    }
   ],
   "source": [
    "import string\n",
    "print(alphabet)"
   ]
  },
  {
   "cell_type": "code",
   "execution_count": 15,
   "metadata": {},
   "outputs": [],
   "source": [
    "def encoding(message, key):\n",
    "    message=message.lower()\n",
    "    import string\n",
    "    alphabet=\" \"+string.ascii_lowercase\n",
    "    \n",
    "    positions={}\n",
    "    index=0\n",
    "    for i in alphabet:\n",
    "        positions[i]=index\n",
    "        index+=1\n",
    "        \n",
    "    encoded_list=[]\n",
    "    for char in message:\n",
    "        position=positions[char]\n",
    "        encoded_position=(position+key)%27\n",
    "        encoded_list.append(alphabet[encoded_position])\n",
    "    encoded_message=\"\".join(encoded_list)\n",
    "    return (encoded_message)"
   ]
  },
  {
   "cell_type": "code",
   "execution_count": 20,
   "metadata": {},
   "outputs": [],
   "source": [
    "encoded_message=encoding(\"hello\", 1)"
   ]
  },
  {
   "cell_type": "code",
   "execution_count": 21,
   "metadata": {},
   "outputs": [
    {
     "data": {
      "text/plain": [
       "'ifmmp'"
      ]
     },
     "execution_count": 21,
     "metadata": {},
     "output_type": "execute_result"
    }
   ],
   "source": [
    "encoded_message"
   ]
  },
  {
   "cell_type": "code",
   "execution_count": 9,
   "metadata": {},
   "outputs": [
    {
     "data": {
      "text/plain": [
       "'the enemy is coming'"
      ]
     },
     "execution_count": 9,
     "metadata": {},
     "output_type": "execute_result"
    }
   ],
   "source": [
    "encoding(encoded_message, -1)"
   ]
  },
  {
   "cell_type": "code",
   "execution_count": 24,
   "metadata": {},
   "outputs": [
    {
     "name": "stdout",
     "output_type": "stream",
     "text": [
      "Enter message to encode: The enemy is coming\n",
      "Enter key (number of steps): 1\n",
      "Encoded message:\n",
      "uifafofnzajtadpnjoh\n"
     ]
    }
   ],
   "source": [
    "message = input(\"Enter message to encode: \")\n",
    "key = int(input(\"Enter key (number of steps): \"))\n",
    "encoded = encoding(message, key)\n",
    "print(\"Encoded message:\")\n",
    "print(encoded)"
   ]
  },
  {
   "cell_type": "code",
   "execution_count": 22,
   "metadata": {},
   "outputs": [
    {
     "name": "stdout",
     "output_type": "stream",
     "text": [
      "<function encode_text at 0x0000027A5B4F8048>\n"
     ]
    }
   ],
   "source": []
  },
  {
   "cell_type": "code",
   "execution_count": null,
   "metadata": {},
   "outputs": [],
   "source": []
  }
 ],
 "metadata": {
  "kernelspec": {
   "display_name": "Python 3",
   "language": "python",
   "name": "python3"
  },
  "language_info": {
   "codemirror_mode": {
    "name": "ipython",
    "version": 3
   },
   "file_extension": ".py",
   "mimetype": "text/x-python",
   "name": "python",
   "nbconvert_exporter": "python",
   "pygments_lexer": "ipython3",
   "version": "3.7.6"
  }
 },
 "nbformat": 4,
 "nbformat_minor": 4
}
